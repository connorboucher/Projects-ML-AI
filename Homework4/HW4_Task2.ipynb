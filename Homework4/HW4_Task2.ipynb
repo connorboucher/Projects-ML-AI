{
 "cells": [
  {
   "cell_type": "code",
   "execution_count": 1,
   "id": "67a769b6-13af-4f41-b980-a93f6f5415ee",
   "metadata": {},
   "outputs": [],
   "source": [
    "import gensim.downloader as api\n",
    "import numpy as np\n",
    "import math"
   ]
  },
  {
   "cell_type": "code",
   "execution_count": 2,
   "id": "2e800cbc-5559-4ea4-aba3-91307bf3a2d0",
   "metadata": {},
   "outputs": [],
   "source": [
    "dataset = api.load('fasttext-wiki-news-subwords-300')"
   ]
  },
  {
   "cell_type": "code",
   "execution_count": 19,
   "id": "c810d979-6d32-4df9-895b-2c225382be11",
   "metadata": {},
   "outputs": [
    {
     "name": "stdout",
     "output_type": "stream",
     "text": [
      "-0.08799376\n",
      "-0.12004372\n",
      "1.0880891\n",
      "-0.023101712\n"
     ]
    }
   ],
   "source": [
    "def similarity(pair_num, pair_num2):\n",
    "    dot_product = np.dot(dataset[pair_num], dataset[pair_num2])\n",
    "    return dot_product / (np.linalg.norm(dataset[pair_num]) * np.linalg.norm(dataset[pair_num2]))\n",
    "    \n",
    "print(similarity(0, 1))\n",
    "print(similarity(1, 2))\n",
    "print(similarity(0, 10))\n",
    "print(similarity(4, 8))"
   ]
  },
  {
   "cell_type": "code",
   "execution_count": 27,
   "id": "041129a9-0929-497c-b1cd-d4e787bbf431",
   "metadata": {},
   "outputs": [
    {
     "name": "stdout",
     "output_type": "stream",
     "text": [
      "2.1409747812512663\n",
      "2.3509718016016103\n",
      "1.1735370592796406\n",
      "2.4204287661186905\n"
     ]
    }
   ],
   "source": [
    "def dissimilarity(pair_num, pair_num2):\n",
    "    sum = 0\n",
    "    for i in range(0, len(dataset[pair_num])):\n",
    "        sum += (dataset[pair_num][i] - dataset[pair_num2][i]) ** 2\n",
    "    return math.sqrt(sum)\n",
    "        \n",
    "print(dissimilarity(0, 1))\n",
    "print(dissimilarity(1, 2))\n",
    "print(dissimilarity(0, 10))\n",
    "print(dissimilarity(4, 8))"
   ]
  },
  {
   "cell_type": "markdown",
   "id": "e172d4c6-0222-4a05-83aa-7d24a0be9495",
   "metadata": {},
   "source": [
    "I looked online for examples of dissimilarity functions and found a website https://online.stat.psu.edu/stat508/lesson/1b/1b.2/1b.2.1 that listed Euclidian distance as a common dissimilarity function.  This website provided the formulas for Euclidian distance, so I used that as a reference when writing my function to calculate dissimilarity.  Euclidian distance is calculated using the distances between corresponding data points between two vectors, so the greater the average difference between the two vectors, the greater the resulting value.  This can be seen firsthand by how I ran similarity and dissimilarity four times each with the same inputs.  The runs with low similarity calculated relatively high dissimilarity when compared to the other runs, and same is true with high similarity correlating to low dissimilarity."
   ]
  }
 ],
 "metadata": {
  "kernelspec": {
   "display_name": "Python 3 (ipykernel)",
   "language": "python",
   "name": "python3"
  },
  "language_info": {
   "codemirror_mode": {
    "name": "ipython",
    "version": 3
   },
   "file_extension": ".py",
   "mimetype": "text/x-python",
   "name": "python",
   "nbconvert_exporter": "python",
   "pygments_lexer": "ipython3",
   "version": "3.8.10"
  }
 },
 "nbformat": 4,
 "nbformat_minor": 5
}
