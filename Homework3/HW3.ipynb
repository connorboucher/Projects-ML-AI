{
 "cells": [
  {
   "cell_type": "markdown",
   "id": "29ed2bd6-8e5f-48fd-9e3a-93dbe06ea5b4",
   "metadata": {},
   "source": [
    "Task 1:\n",
    "When working on this assignment, I used the tensorflow website https://www.tensorflow.org/tutorials/images/classification as a general guide for working with the framework for image classification.  Whenever I came accross topics that I did not understand, I did research on other websites to determine what was happening and what I needed to do to get the framework to function correctly.\n",
    "\n",
    "I used the keras and Sequential resources in this assignment.  Keras was used for performing the train-dev-test split and for creating the Sequential model which was used for acutally training the model using the fit() function.  With the Sequential model, I could use it to add layers to the neural network using tf.keras.layers.Conv2D.  Sequential also gives the ability to perform minibatch gradient descent to train the model and save the results of the computations of each epoch.  This was critical in allowing me to create a two layer neural network and was the reason I used the keras and Sequential resources.\n",
    "\n",
    "Below are the additional websites I used for understanding the different aspects of creating a two layer neural network:\n",
    "\n",
    "Used for learning Sequential model:\n",
    "https://www.tensorflow.org/api_docs/python/tf/keras/Sequential\n",
    "\n",
    "Used for understanding forward propagation:\n",
    "https://programmer.group/tensorflow-implements-forward-propagation-of-neural-networks.html\n",
    "https://towardsdatascience.com/coding-neural-network-forward-propagation-and-backpropagtion-ccf8cf369f76\n",
    "\n",
    "Used for understanding of a two layer neural network:\n",
    "https://www.easy-tensorflow.com/tf-tutorials/neural-networks/two-layer-neural-network?view=article&id=124:two-layer-neural-network\n",
    "\n",
    "Used to understand what each part of the train-dev-test split was for:\n",
    "https://towardsdatascience.com/how-to-split-a-tensorflow-dataset-into-train-validation-and-test-sets-526c8dd29438\n",
    "\n",
    "Used to learn more about optimizers and helped me in choosing Adam:\n",
    "https://keras.io/api/optimizers/\n",
    "\n",
    "Used to learn about using the test set to predict and measure how accurate predicitons were:\n",
    "https://www.machinecurve.com/index.php/2020/02/21/how-to-predict-new-samples-with-your-keras-model/\n",
    "https://www.tensorflow.org/api_docs/python/tf/math/argmax"
   ]
  },
  {
   "cell_type": "markdown",
   "id": "858505ef-c778-4a99-a762-072d1138d93a",
   "metadata": {},
   "source": [
    "Task 2:\n",
    "Exploratory Data Analysis:\n",
    "The dataset I used was from https://www.kaggle.com/alessiocorrado99/animals10 and was already used by another person.  All of the images had already been checked and the images were split up into 10 groups depending on which animal they depicted.  This made it perfect to use immediately for training and image classification.  The only changes I did to the dataset iself was change the names of the folders from spanish to english and removed the corresponding translation file provided by the original owner of the dataset."
   ]
  },
  {
   "cell_type": "code",
   "execution_count": 2,
   "id": "03744a3d-9fc8-47bd-bec0-a3a30d002776",
   "metadata": {},
   "outputs": [],
   "source": [
    "import matplotlib.pyplot as plt\n",
    "import tensorflow as tf\n",
    "import numpy as np\n",
    "\n",
    "from tensorflow import keras\n",
    "from tensorflow.keras import layers\n",
    "from tensorflow.keras.models import Sequential"
   ]
  },
  {
   "cell_type": "code",
   "execution_count": 3,
   "id": "2615f652-1f99-481e-9354-cacfb78f6a1b",
   "metadata": {},
   "outputs": [],
   "source": [
    "import pathlib\n",
    "data_dir = pathlib.Path(\"/mnt/c/users/bouchc2/downloads/animal_images_archive\")\n",
    "batch_size = 32\n",
    "img_height = 180\n",
    "img_width = 180"
   ]
  },
  {
   "cell_type": "code",
   "execution_count": 4,
   "id": "11e79e28-5ab1-45a4-a85c-6c7ba08b9d23",
   "metadata": {},
   "outputs": [
    {
     "name": "stdout",
     "output_type": "stream",
     "text": [
      "Found 26179 files belonging to 10 classes.\n",
      "Using 20944 files for training.\n"
     ]
    },
    {
     "name": "stderr",
     "output_type": "stream",
     "text": [
      "2021-10-01 22:40:45.819681: W tensorflow/stream_executor/platform/default/dso_loader.cc:64] Could not load dynamic library 'libcuda.so.1'; dlerror: libcuda.so.1: cannot open shared object file: No such file or directory\n",
      "2021-10-01 22:40:45.819873: W tensorflow/stream_executor/cuda/cuda_driver.cc:269] failed call to cuInit: UNKNOWN ERROR (303)\n",
      "2021-10-01 22:40:45.820013: I tensorflow/stream_executor/cuda/cuda_diagnostics.cc:156] kernel driver does not appear to be running on this host (DESKTOP-J2H6DT8): /proc/driver/nvidia/version does not exist\n",
      "2021-10-01 22:40:45.821154: I tensorflow/core/platform/cpu_feature_guard.cc:142] This TensorFlow binary is optimized with oneAPI Deep Neural Network Library (oneDNN) to use the following CPU instructions in performance-critical operations:  AVX2 FMA\n",
      "To enable them in other operations, rebuild TensorFlow with the appropriate compiler flags.\n"
     ]
    }
   ],
   "source": [
    "train_set = tf.keras.preprocessing.image_dataset_from_directory(\n",
    "  data_dir,\n",
    "  validation_split=0.2,\n",
    "  subset=\"training\",\n",
    "  seed=123,\n",
    "  image_size=(img_height, img_width),\n",
    "  batch_size=batch_size)"
   ]
  },
  {
   "cell_type": "code",
   "execution_count": 5,
   "id": "bfebf170-4ea4-4e4e-8664-4dc7867055c4",
   "metadata": {},
   "outputs": [
    {
     "name": "stdout",
     "output_type": "stream",
     "text": [
      "Found 26179 files belonging to 10 classes.\n",
      "Using 5235 files for validation.\n"
     ]
    }
   ],
   "source": [
    "dev_split = tf.keras.preprocessing.image_dataset_from_directory(\n",
    "  data_dir,\n",
    "  validation_split=0.2,\n",
    "  subset=\"validation\",\n",
    "  seed=123,\n",
    "  image_size=(img_height, img_width),\n",
    "  batch_size=batch_size)\n",
    "\n",
    "test_set = dev_split.take(30)\n",
    "dev_set = dev_split.skip(30)"
   ]
  },
  {
   "cell_type": "code",
   "execution_count": 6,
   "id": "8d814cb1-3943-4131-9581-6e37966b6702",
   "metadata": {},
   "outputs": [],
   "source": [
    "data_augmentation = keras.Sequential(\n",
    "  [\n",
    "    layers.experimental.preprocessing.RandomFlip(\"horizontal\", \n",
    "                                                 input_shape=(img_height, \n",
    "                                                              img_width,\n",
    "                                                              3)),\n",
    "    layers.experimental.preprocessing.RandomRotation(0.1),\n",
    "    layers.experimental.preprocessing.RandomZoom(0.1),\n",
    "  ]\n",
    ")"
   ]
  },
  {
   "cell_type": "code",
   "execution_count": 7,
   "id": "650b4d3e-8e4d-4def-aaf2-6f2ffe01b54e",
   "metadata": {},
   "outputs": [],
   "source": [
    "num_classes = 10\n",
    "model = Sequential([\n",
    "  data_augmentation,\n",
    "  layers.experimental.preprocessing.Rescaling(1./255),\n",
    "  layers.Conv2D(16, 3, padding='same', activation='relu'),\n",
    "  layers.MaxPooling2D(),\n",
    "  layers.Dropout(0.2),\n",
    "  layers.Flatten(),\n",
    "  layers.Dense(128, activation='relu'),\n",
    "  layers.Dense(num_classes)\n",
    "])"
   ]
  },
  {
   "cell_type": "code",
   "execution_count": 8,
   "id": "23acc574-1830-4ce1-a571-915adef89173",
   "metadata": {},
   "outputs": [],
   "source": [
    "model.compile(optimizer='Adam',\n",
    "              loss=tf.keras.losses.SparseCategoricalCrossentropy(from_logits=True),\n",
    "              metrics=['accuracy'])"
   ]
  },
  {
   "cell_type": "code",
   "execution_count": null,
   "id": "000f33fb-4be7-4f3d-bfb9-3241d405cdfb",
   "metadata": {},
   "outputs": [
    {
     "name": "stdout",
     "output_type": "stream",
     "text": [
      "Epoch 1/3\n",
      " 67/655 [==>...........................] - ETA: 13:03 - loss: 1.7754 - accuracy: 0.3923"
     ]
    },
    {
     "name": "stderr",
     "output_type": "stream",
     "text": [
      "2021-10-01 23:05:23.184900: W tensorflow/core/lib/png/png_io.cc:88] PNG warning: iCCP: known incorrect sRGB profile\n"
     ]
    },
    {
     "name": "stdout",
     "output_type": "stream",
     "text": [
      " 86/655 [==>...........................] - ETA: 12:50 - loss: 1.7722 - accuracy: 0.3903"
     ]
    }
   ],
   "source": [
    "epochs = 3\n",
    "data = model.fit(\n",
    "  train_set,\n",
    "  validation_data=dev_set,\n",
    "  batch_size = batch_size,\n",
    "  epochs=epochs\n",
    ")"
   ]
  },
  {
   "cell_type": "code",
   "execution_count": 10,
   "id": "c513fdd5-175f-42e2-8ebe-834d96dc8435",
   "metadata": {},
   "outputs": [],
   "source": [
    "acc = data.history['accuracy']\n",
    "val_acc = data.history['val_accuracy']\n",
    "\n",
    "loss = data.history['loss']\n",
    "val_loss = data.history['val_loss']\n",
    "epochs_range = range(epochs)"
   ]
  },
  {
   "cell_type": "code",
   "execution_count": 19,
   "id": "7e68c6f7-33ac-4d15-ae9f-960316a8ce2e",
   "metadata": {},
   "outputs": [
    {
     "name": "stdout",
     "output_type": "stream",
     "text": [
      "This image most likely belongs to dog with a 23.29 percent confidence.\n",
      "This image most likely belongs to horse with a 30.85 percent confidence.\n",
      "This image most likely belongs to spider with a 41.29 percent confidence.\n",
      "This image most likely belongs to butterfly with a 79.34 percent confidence.\n",
      "This image most likely belongs to spider with a 38.71 percent confidence.\n",
      "This image most likely belongs to spider with a 27.26 percent confidence.\n",
      "This image most likely belongs to dog with a 59.26 percent confidence.\n",
      "This image most likely belongs to spider with a 42.98 percent confidence.\n",
      "This image most likely belongs to chicken with a 17.66 percent confidence.\n",
      "This image most likely belongs to spider with a 63.30 percent confidence.\n",
      "The accuracy of the model is 0.14.\n"
     ]
    }
   ],
   "source": [
    "classes = train_set.class_names \n",
    "predictions = model.predict(test_set)\n",
    "prediction_indeces = np.argmax(predictions, axis = 1)\n",
    "\n",
    "n = list(map(lambda x:x[1], test_set))\n",
    "\n",
    "image_list = []\n",
    "for x in n:\n",
    "    for y in x:\n",
    "        image_list.append(y)   \n",
    "        \n",
    "# All predictions are given a confidence value for each category of animal\n",
    "# The index with the highest confidence is chosen\n",
    "# The first 10 predictions are printed out to show this\n",
    "for i in range(0, 10):\n",
    "    print(\"This image most likely belongs to {} with a {:.2f} percent confidence.\"\n",
    "          .format(classes[np.argmax(tf.nn.softmax(predictions[i]))], 100 * np.max(tf.nn.softmax(predictions[i]))))\n",
    "        \n",
    "\n",
    "\n",
    "correct = 0\n",
    "for i in range(0, len(image_list)):\n",
    "    if (image_list[i] == prediction_indeces[i]):\n",
    "        correct += 1\n",
    "\n",
    "print(\"The accuracy of the model is {:.2f}.\".format(correct/len(image_list)))"
   ]
  },
  {
   "cell_type": "markdown",
   "id": "3273a1d3-cd96-4639-a3d3-3357863d94f1",
   "metadata": {},
   "source": [
    "Task 3:\n",
    "In task 2 I chose the hyperparameters to be as follows: I chose the number of epochs to be 3 and the batch size to be 32.  I chose the number of epochs to be 3 as I did some reasearch online and found that there is no optimum number of epochs to use, and instead the user should stop adding epochs when the accuracy of the training begins to level off.  I chose 3 epochs as I started with 1 and continued to add more, but once I used more than 3 the model took such a long time to train that I could not get results before running out of memory.  I chose a batch size of 32 after doing some searching online and finding that 32 is a good starting point for smaller datasets.  Also, I read https://machinelearningmastery.com/how-to-control-the-speed-and-stability-of-training-neural-networks-with-gradient-descent-batch-size/ to find that it was good number for minibatch since the size is greater than 1 but less than the total number of examples in my training set.\n",
    "\n",
    "I did not use regularization since the accuracy of the model was not incredibly high, meaning that the model did not fit the data too well which would be a sign of overfitting.  I did use the optimization algorithm SGD though as I read about when to use optimizers and found from https://www.kdnuggets.com/2020/12/optimization-algorithms-neural-networks.html that it's a good idea to do so when you do not know what weights to use for training.  Since this was the case, I used the well known Adam optimizer mentioned in the same webpage in order to minimize loss."
   ]
  },
  {
   "cell_type": "code",
   "execution_count": null,
   "id": "345aa99d-4593-48ca-babf-7e94138a6bd6",
   "metadata": {},
   "outputs": [],
   "source": []
  }
 ],
 "metadata": {
  "kernelspec": {
   "display_name": "Python 3 (ipykernel)",
   "language": "python",
   "name": "python3"
  },
  "language_info": {
   "codemirror_mode": {
    "name": "ipython",
    "version": 3
   },
   "file_extension": ".py",
   "mimetype": "text/x-python",
   "name": "python",
   "nbconvert_exporter": "python",
   "pygments_lexer": "ipython3",
   "version": "3.8.10"
  }
 },
 "nbformat": 4,
 "nbformat_minor": 5
}
