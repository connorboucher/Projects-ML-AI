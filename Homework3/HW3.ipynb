{
 "cells": [
  {
   "cell_type": "markdown",
   "id": "29ed2bd6-8e5f-48fd-9e3a-93dbe06ea5b4",
   "metadata": {},
   "source": [
    "Task 1:\n",
    "When working on this assignment, I used the tensorflow website https://www.tensorflow.org/tutorials/images/classification as a general guide for working with the framework for image classification.  Whenever I came accross topics that I did not understand, I did research on other websites to determine what was happening and what I needed to do to get the framework to function correctly.\n",
    "\n",
    "I used the keras and Sequential resources in this assignment.  Keras was used for performing the train-dev-test split and for creating the Sequential model which was used for acutally training the model using the fit() function.  With the Sequential model, I could use it to add layers to the neural network using tf.keras.layers.Conv2D.  Sequential also gives the ability to perform minibatch gradient descent to train the model and save the results of the computations of each epoch.  This was critical in allowing me to create a two layer neural network and was the reason I used the keras and Sequential resources.\n",
    "\n",
    "Below are the additional websites I used for understanding the different aspects of creating a two layer neural network:\n",
    "\n",
    "Used for learning Sequential model:\n",
    "https://www.tensorflow.org/api_docs/python/tf/keras/Sequential\n",
    "\n",
    "Used for understanding forward propagation:\n",
    "https://programmer.group/tensorflow-implements-forward-propagation-of-neural-networks.html\n",
    "https://towardsdatascience.com/coding-neural-network-forward-propagation-and-backpropagtion-ccf8cf369f76\n",
    "\n",
    "Used for understanding of a two layer neural network:\n",
    "https://www.easy-tensorflow.com/tf-tutorials/neural-networks/two-layer-neural-network?view=article&id=124:two-layer-neural-network\n",
    "\n",
    "Used to understand what each part of the train-dev-test split was for:\n",
    "https://towardsdatascience.com/how-to-split-a-tensorflow-dataset-into-train-validation-and-test-sets-526c8dd29438\n",
    "\n",
    "Used to learn more about optimizers and helped me in choosing Adam:\n",
    "https://keras.io/api/optimizers/\n",
    "\n",
    "Used to learn about using the test set to predict and measure how accurate predicitons were:\n",
    "https://www.machinecurve.com/index.php/2020/02/21/how-to-predict-new-samples-with-your-keras-model/\n",
    "https://www.tensorflow.org/api_docs/python/tf/math/argmax"
   ]
  },
  {
   "cell_type": "markdown",
   "id": "858505ef-c778-4a99-a762-072d1138d93a",
   "metadata": {},
   "source": [
    "Task 2:\n",
    "Exploratory Data Analysis:\n",
    "The dataset I used was from https://www.kaggle.com/alessiocorrado99/animals10 and was already used by another person.  All of the images had already been checked and the images were split up into 10 groups depending on which animal they depicted.  This made it perfect to use immediately for training and image classification.  The only changes I did to the dataset iself was change the names of the folders from spanish to english and removed the corresponding translation file provided by the original owner of the dataset."
   ]
  },
  {
   "cell_type": "code",
   "execution_count": 2,
   "id": "03744a3d-9fc8-47bd-bec0-a3a30d002776",
   "metadata": {},
   "outputs": [],
   "source": [
    "import matplotlib.pyplot as plt\n",
    "import tensorflow as tf\n",
    "import numpy as np\n",
    "\n",
    "from tensorflow import keras\n",
    "from tensorflow.keras import layers\n",
    "from tensorflow.keras.models import Sequential"
   ]
  },
  {
   "cell_type": "code",
   "execution_count": 3,
   "id": "2615f652-1f99-481e-9354-cacfb78f6a1b",
   "metadata": {},
   "outputs": [],
   "source": [
    "import pathlib\n",
    "data_dir = pathlib.Path(\"/mnt/c/users/bouchc2/downloads/animal_images_archive\")\n",
    "batch_size = 32\n",
    "img_height = 180\n",
    "img_width = 180"
   ]
  },
  {
   "cell_type": "code",
   "execution_count": 4,
   "id": "11e79e28-5ab1-45a4-a85c-6c7ba08b9d23",
   "metadata": {},
   "outputs": [
    {
     "name": "stdout",
     "output_type": "stream",
     "text": [
      "Found 26179 files belonging to 10 classes.\n",
      "Using 20944 files for training.\n"
     ]
    },
    {
     "name": "stderr",
     "output_type": "stream",
     "text": [
      "2021-10-01 22:40:45.819681: W tensorflow/stream_executor/platform/default/dso_loader.cc:64] Could not load dynamic library 'libcuda.so.1'; dlerror: libcuda.so.1: cannot open shared object file: No such file or directory\n",
      "2021-10-01 22:40:45.819873: W tensorflow/stream_executor/cuda/cuda_driver.cc:269] failed call to cuInit: UNKNOWN ERROR (303)\n",
      "2021-10-01 22:40:45.820013: I tensorflow/stream_executor/cuda/cuda_diagnostics.cc:156] kernel driver does not appear to be running on this host (DESKTOP-J2H6DT8): /proc/driver/nvidia/version does not exist\n",
      "2021-10-01 22:40:45.821154: I tensorflow/core/platform/cpu_feature_guard.cc:142] This TensorFlow binary is optimized with oneAPI Deep Neural Network Library (oneDNN) to use the following CPU instructions in performance-critical operations:  AVX2 FMA\n",
      "To enable them in other operations, rebuild TensorFlow with the appropriate compiler flags.\n"
     ]
    }
   ],
   "source": [
    "train_set = tf.keras.preprocessing.image_dataset_from_directory(\n",
    "  data_dir,\n",
    "  validation_split=0.2,\n",
    "  subset=\"training\",\n",
    "  seed=123,\n",
    "  image_size=(img_height, img_width),\n",
    "  batch_size=batch_size)"
   ]
  },
  {
   "cell_type": "code",
   "execution_count": 5,
   "id": "bfebf170-4ea4-4e4e-8664-4dc7867055c4",
   "metadata": {},
   "outputs": [
    {
     "name": "stdout",
     "output_type": "stream",
     "text": [
      "Found 26179 files belonging to 10 classes.\n",
      "Using 5235 files for validation.\n"
     ]
    }
   ],
   "source": [
    "dev_split = tf.keras.preprocessing.image_dataset_from_directory(\n",
    "  data_dir,\n",
    "  validation_split=0.2,\n",
    "  subset=\"validation\",\n",
    "  seed=123,\n",
    "  image_size=(img_height, img_width),\n",
    "  batch_size=batch_size)\n",
    "\n",
    "test_set = dev_split.take(30)\n",
    "dev_set = dev_split.skip(30)"
   ]
  },
  {
   "cell_type": "code",
   "execution_count": 6,
   "id": "8d814cb1-3943-4131-9581-6e37966b6702",
   "metadata": {},
   "outputs": [],
   "source": [
    "data_augmentation = keras.Sequential(\n",
    "  [\n",
    "    layers.experimental.preprocessing.RandomFlip(\"horizontal\", \n",
    "                                                 input_shape=(img_height, \n",
    "                                                              img_width,\n",
    "                                                              3)),\n",
    "    layers.experimental.preprocessing.RandomRotation(0.1),\n",
    "    layers.experimental.preprocessing.RandomZoom(0.1),\n",
    "  ]\n",
    ")"
   ]
  },
  {
   "cell_type": "code",
   "execution_count": 7,
   "id": "650b4d3e-8e4d-4def-aaf2-6f2ffe01b54e",
   "metadata": {},
   "outputs": [],
   "source": [
    "num_classes = 10\n",
    "model = Sequential([\n",
    "  data_augmentation,\n",
    "  layers.experimental.preprocessing.Rescaling(1./255),\n",
    "  layers.Conv2D(16, 3, padding='same', activation='relu'),\n",
    "  layers.MaxPooling2D(),\n",
    "  layers.Dropout(0.2),\n",
    "  layers.Flatten(),\n",
    "  layers.Dense(128, activation='relu'),\n",
    "  layers.Dense(num_classes)\n",
    "])"
   ]
  },
  {
   "cell_type": "code",
   "execution_count": 8,
   "id": "23acc574-1830-4ce1-a571-915adef89173",
   "metadata": {},
   "outputs": [],
   "source": [
    "model.compile(optimizer='Adam',\n",
    "              loss=tf.keras.losses.SparseCategoricalCrossentropy(from_logits=True),\n",
    "              metrics=['accuracy'])"
   ]
  },
  {
   "cell_type": "code",
   "execution_count": 20,
   "id": "000f33fb-4be7-4f3d-bfb9-3241d405cdfb",
   "metadata": {},
   "outputs": [
    {
     "name": "stdout",
     "output_type": "stream",
     "text": [
      "Epoch 1/3\n",
      " 67/655 [==>...........................] - ETA: 13:03 - loss: 1.7754 - accuracy: 0.3923"
     ]
    },
    {
     "name": "stderr",
     "output_type": "stream",
     "text": [
      "2021-10-01 23:05:23.184900: W tensorflow/core/lib/png/png_io.cc:88] PNG warning: iCCP: known incorrect sRGB profile\n"
     ]
    },
    {
     "name": "stdout",
     "output_type": "stream",
     "text": [
      "105/655 [===>..........................] - ETA: 12:30 - loss: 1.7777 - accuracy: 0.3884"
     ]
    },
    {
     "name": "stderr",
     "output_type": "stream",
     "text": [
      "2021-10-01 23:06:17.133932: W tensorflow/core/lib/png/png_io.cc:88] PNG warning: iCCP: known incorrect sRGB profile\n"
     ]
    },
    {
     "name": "stdout",
     "output_type": "stream",
     "text": [
      "178/655 [=======>......................] - ETA: 10:30 - loss: 1.7576 - accuracy: 0.4012"
     ]
    },
    {
     "name": "stderr",
     "output_type": "stream",
     "text": [
      "2021-10-01 23:07:49.057523: W tensorflow/core/lib/png/png_io.cc:88] PNG warning: iCCP: known incorrect sRGB profile\n"
     ]
    },
    {
     "name": "stdout",
     "output_type": "stream",
     "text": [
      "186/655 [=======>......................] - ETA: 10:16 - loss: 1.7483 - accuracy: 0.4052"
     ]
    },
    {
     "name": "stderr",
     "output_type": "stream",
     "text": [
      "2021-10-01 23:07:58.340623: W tensorflow/core/lib/png/png_io.cc:88] PNG warning: iCCP: known incorrect sRGB profile\n"
     ]
    },
    {
     "name": "stdout",
     "output_type": "stream",
     "text": [
      "192/655 [=======>......................] - ETA: 10:04 - loss: 1.7481 - accuracy: 0.4036"
     ]
    },
    {
     "name": "stderr",
     "output_type": "stream",
     "text": [
      "2021-10-01 23:08:04.562220: W tensorflow/core/lib/png/png_io.cc:88] PNG warning: iCCP: known incorrect sRGB profile\n"
     ]
    },
    {
     "name": "stdout",
     "output_type": "stream",
     "text": [
      "220/655 [=========>....................] - ETA: 9:14 - loss: 1.7443 - accuracy: 0.4050"
     ]
    },
    {
     "name": "stderr",
     "output_type": "stream",
     "text": [
      "2021-10-01 23:08:34.237029: W tensorflow/core/lib/png/png_io.cc:88] PNG warning: iCCP: known incorrect sRGB profile\n"
     ]
    },
    {
     "name": "stdout",
     "output_type": "stream",
     "text": [
      "237/655 [=========>....................] - ETA: 8:53 - loss: 1.7412 - accuracy: 0.4039"
     ]
    },
    {
     "name": "stderr",
     "output_type": "stream",
     "text": [
      "2021-10-01 23:08:56.514885: W tensorflow/core/lib/png/png_io.cc:88] PNG warning: iCCP: known incorrect sRGB profile\n"
     ]
    },
    {
     "name": "stdout",
     "output_type": "stream",
     "text": [
      "251/655 [==========>...................] - ETA: 8:32 - loss: 1.7380 - accuracy: 0.4036"
     ]
    },
    {
     "name": "stderr",
     "output_type": "stream",
     "text": [
      "2021-10-01 23:09:12.413403: W tensorflow/core/lib/png/png_io.cc:88] PNG warning: iCCP: known incorrect sRGB profile\n"
     ]
    },
    {
     "name": "stdout",
     "output_type": "stream",
     "text": [
      "268/655 [===========>..................] - ETA: 8:10 - loss: 1.7354 - accuracy: 0.4044"
     ]
    },
    {
     "name": "stderr",
     "output_type": "stream",
     "text": [
      "2021-10-01 23:09:33.891432: W tensorflow/core/lib/png/png_io.cc:88] PNG warning: iCCP: known incorrect sRGB profile\n"
     ]
    },
    {
     "name": "stdout",
     "output_type": "stream",
     "text": [
      "287/655 [============>.................] - ETA: 7:43 - loss: 1.7282 - accuracy: 0.4064"
     ]
    },
    {
     "name": "stderr",
     "output_type": "stream",
     "text": [
      "2021-10-01 23:09:55.032784: W tensorflow/core/lib/png/png_io.cc:88] PNG warning: iCCP: known incorrect sRGB profile\n"
     ]
    },
    {
     "name": "stdout",
     "output_type": "stream",
     "text": [
      "303/655 [============>.................] - ETA: 7:19 - loss: 1.7238 - accuracy: 0.4077"
     ]
    },
    {
     "name": "stderr",
     "output_type": "stream",
     "text": [
      "2021-10-01 23:10:12.180712: W tensorflow/core/lib/png/png_io.cc:88] PNG warning: iCCP: known incorrect sRGB profile\n"
     ]
    },
    {
     "name": "stdout",
     "output_type": "stream",
     "text": [
      "342/655 [==============>...............] - ETA: 6:32 - loss: 1.7196 - accuracy: 0.4086"
     ]
    },
    {
     "name": "stderr",
     "output_type": "stream",
     "text": [
      "2021-10-01 23:11:02.571747: W tensorflow/core/lib/png/png_io.cc:88] PNG warning: iCCP: known incorrect sRGB profile\n"
     ]
    },
    {
     "name": "stdout",
     "output_type": "stream",
     "text": [
      "348/655 [==============>...............] - ETA: 6:24 - loss: 1.7194 - accuracy: 0.4089"
     ]
    },
    {
     "name": "stderr",
     "output_type": "stream",
     "text": [
      "2021-10-01 23:11:09.574180: W tensorflow/core/lib/png/png_io.cc:88] PNG warning: iCCP: known incorrect sRGB profile\n"
     ]
    },
    {
     "name": "stdout",
     "output_type": "stream",
     "text": [
      "376/655 [================>.............] - ETA: 5:49 - loss: 1.7119 - accuracy: 0.4119"
     ]
    },
    {
     "name": "stderr",
     "output_type": "stream",
     "text": [
      "2021-10-01 23:11:44.512185: W tensorflow/core/lib/png/png_io.cc:88] PNG warning: iCCP: known incorrect sRGB profile\n"
     ]
    },
    {
     "name": "stdout",
     "output_type": "stream",
     "text": [
      "388/655 [================>.............] - ETA: 5:34 - loss: 1.7054 - accuracy: 0.4139"
     ]
    },
    {
     "name": "stderr",
     "output_type": "stream",
     "text": [
      "2021-10-01 23:12:00.343941: W tensorflow/core/lib/png/png_io.cc:88] PNG warning: iCCP: known incorrect sRGB profile\n"
     ]
    },
    {
     "name": "stdout",
     "output_type": "stream",
     "text": [
      "396/655 [=================>............] - ETA: 5:25 - loss: 1.7025 - accuracy: 0.4146"
     ]
    },
    {
     "name": "stderr",
     "output_type": "stream",
     "text": [
      "2021-10-01 23:12:11.077255: W tensorflow/core/lib/png/png_io.cc:88] PNG warning: iCCP: known incorrect sRGB profile\n"
     ]
    },
    {
     "name": "stdout",
     "output_type": "stream",
     "text": [
      "469/655 [====================>.........] - ETA: 3:46 - loss: 1.6938 - accuracy: 0.4176"
     ]
    },
    {
     "name": "stderr",
     "output_type": "stream",
     "text": [
      "2021-10-01 23:13:24.949480: W tensorflow/core/lib/png/png_io.cc:88] PNG warning: iCCP: known incorrect sRGB profile\n"
     ]
    },
    {
     "name": "stdout",
     "output_type": "stream",
     "text": [
      "513/655 [======================>.......] - ETA: 2:42 - loss: 1.6848 - accuracy: 0.4209"
     ]
    },
    {
     "name": "stderr",
     "output_type": "stream",
     "text": [
      "2021-10-01 23:13:41.130851: W tensorflow/core/lib/png/png_io.cc:88] PNG warning: iCCP: known incorrect sRGB profile\n"
     ]
    },
    {
     "name": "stdout",
     "output_type": "stream",
     "text": [
      "580/655 [=========================>....] - ETA: 1:18 - loss: 1.6787 - accuracy: 0.4221"
     ]
    },
    {
     "name": "stderr",
     "output_type": "stream",
     "text": [
      "2021-10-01 23:14:04.630740: W tensorflow/core/lib/png/png_io.cc:88] PNG warning: iCCP: known incorrect sRGB profile\n"
     ]
    },
    {
     "name": "stdout",
     "output_type": "stream",
     "text": [
      "591/655 [==========================>...] - ETA: 1:06 - loss: 1.6790 - accuracy: 0.4221"
     ]
    },
    {
     "name": "stderr",
     "output_type": "stream",
     "text": [
      "2021-10-01 23:14:08.519810: W tensorflow/core/lib/png/png_io.cc:88] PNG warning: iCCP: known incorrect sRGB profile\n"
     ]
    },
    {
     "name": "stdout",
     "output_type": "stream",
     "text": [
      "655/655 [==============================] - ETA: 0s - loss: 1.6679 - accuracy: 0.4251"
     ]
    },
    {
     "name": "stderr",
     "output_type": "stream",
     "text": [
      "2021-10-01 23:14:37.740960: W tensorflow/core/lib/png/png_io.cc:88] PNG warning: iCCP: known incorrect sRGB profile\n",
      "2021-10-01 23:14:38.278350: W tensorflow/core/lib/png/png_io.cc:88] PNG warning: iCCP: known incorrect sRGB profile\n"
     ]
    },
    {
     "name": "stdout",
     "output_type": "stream",
     "text": [
      "655/655 [==============================] - 648s 988ms/step - loss: 1.6679 - accuracy: 0.4251 - val_loss: 1.8151 - val_accuracy: 0.4103\n",
      "Epoch 2/3\n",
      " 67/655 [==>...........................] - ETA: 3:35 - loss: 1.5902 - accuracy: 0.4520"
     ]
    },
    {
     "name": "stderr",
     "output_type": "stream",
     "text": [
      "2021-10-01 23:15:06.210729: W tensorflow/core/lib/png/png_io.cc:88] PNG warning: iCCP: known incorrect sRGB profile\n"
     ]
    },
    {
     "name": "stdout",
     "output_type": "stream",
     "text": [
      "105/655 [===>..........................] - ETA: 3:20 - loss: 1.6033 - accuracy: 0.4440"
     ]
    },
    {
     "name": "stderr",
     "output_type": "stream",
     "text": [
      "2021-10-01 23:15:19.888614: W tensorflow/core/lib/png/png_io.cc:88] PNG warning: iCCP: known incorrect sRGB profile\n"
     ]
    },
    {
     "name": "stdout",
     "output_type": "stream",
     "text": [
      "178/655 [=======>......................] - ETA: 2:53 - loss: 1.6059 - accuracy: 0.4470"
     ]
    },
    {
     "name": "stderr",
     "output_type": "stream",
     "text": [
      "2021-10-01 23:15:46.449064: W tensorflow/core/lib/png/png_io.cc:88] PNG warning: iCCP: known incorrect sRGB profile\n"
     ]
    },
    {
     "name": "stdout",
     "output_type": "stream",
     "text": [
      "186/655 [=======>......................] - ETA: 2:50 - loss: 1.6014 - accuracy: 0.4494"
     ]
    },
    {
     "name": "stderr",
     "output_type": "stream",
     "text": [
      "2021-10-01 23:15:49.147081: W tensorflow/core/lib/png/png_io.cc:88] PNG warning: iCCP: known incorrect sRGB profile\n"
     ]
    },
    {
     "name": "stdout",
     "output_type": "stream",
     "text": [
      "192/655 [=======>......................] - ETA: 2:47 - loss: 1.6016 - accuracy: 0.4497"
     ]
    },
    {
     "name": "stderr",
     "output_type": "stream",
     "text": [
      "2021-10-01 23:15:51.150650: W tensorflow/core/lib/png/png_io.cc:88] PNG warning: iCCP: known incorrect sRGB profile\n"
     ]
    },
    {
     "name": "stdout",
     "output_type": "stream",
     "text": [
      "220/655 [=========>....................] - ETA: 2:37 - loss: 1.5977 - accuracy: 0.4511"
     ]
    },
    {
     "name": "stderr",
     "output_type": "stream",
     "text": [
      "2021-10-01 23:16:01.456084: W tensorflow/core/lib/png/png_io.cc:88] PNG warning: iCCP: known incorrect sRGB profile\n"
     ]
    },
    {
     "name": "stdout",
     "output_type": "stream",
     "text": [
      "237/655 [=========>....................] - ETA: 2:31 - loss: 1.5946 - accuracy: 0.4532"
     ]
    },
    {
     "name": "stderr",
     "output_type": "stream",
     "text": [
      "2021-10-01 23:16:07.640969: W tensorflow/core/lib/png/png_io.cc:88] PNG warning: iCCP: known incorrect sRGB profile\n"
     ]
    },
    {
     "name": "stdout",
     "output_type": "stream",
     "text": [
      "251/655 [==========>...................] - ETA: 2:26 - loss: 1.5957 - accuracy: 0.4526"
     ]
    },
    {
     "name": "stderr",
     "output_type": "stream",
     "text": [
      "2021-10-01 23:16:12.506038: W tensorflow/core/lib/png/png_io.cc:88] PNG warning: iCCP: known incorrect sRGB profile\n"
     ]
    },
    {
     "name": "stdout",
     "output_type": "stream",
     "text": [
      "268/655 [===========>..................] - ETA: 2:20 - loss: 1.5926 - accuracy: 0.4530"
     ]
    },
    {
     "name": "stderr",
     "output_type": "stream",
     "text": [
      "2021-10-01 23:16:18.710912: W tensorflow/core/lib/png/png_io.cc:88] PNG warning: iCCP: known incorrect sRGB profile\n"
     ]
    },
    {
     "name": "stdout",
     "output_type": "stream",
     "text": [
      "287/655 [============>.................] - ETA: 2:13 - loss: 1.5903 - accuracy: 0.4544"
     ]
    },
    {
     "name": "stderr",
     "output_type": "stream",
     "text": [
      "2021-10-01 23:16:26.007675: W tensorflow/core/lib/png/png_io.cc:88] PNG warning: iCCP: known incorrect sRGB profile\n"
     ]
    },
    {
     "name": "stdout",
     "output_type": "stream",
     "text": [
      "303/655 [============>.................] - ETA: 2:08 - loss: 1.5860 - accuracy: 0.4568"
     ]
    },
    {
     "name": "stderr",
     "output_type": "stream",
     "text": [
      "2021-10-01 23:16:32.160524: W tensorflow/core/lib/png/png_io.cc:88] PNG warning: iCCP: known incorrect sRGB profile\n"
     ]
    },
    {
     "name": "stdout",
     "output_type": "stream",
     "text": [
      "342/655 [==============>...............] - ETA: 1:53 - loss: 1.5892 - accuracy: 0.4562"
     ]
    },
    {
     "name": "stderr",
     "output_type": "stream",
     "text": [
      "2021-10-01 23:16:45.882458: W tensorflow/core/lib/png/png_io.cc:88] PNG warning: iCCP: known incorrect sRGB profile\n"
     ]
    },
    {
     "name": "stdout",
     "output_type": "stream",
     "text": [
      "348/655 [==============>...............] - ETA: 1:51 - loss: 1.5900 - accuracy: 0.4560"
     ]
    },
    {
     "name": "stderr",
     "output_type": "stream",
     "text": [
      "2021-10-01 23:16:47.877039: W tensorflow/core/lib/png/png_io.cc:88] PNG warning: iCCP: known incorrect sRGB profile\n"
     ]
    },
    {
     "name": "stdout",
     "output_type": "stream",
     "text": [
      "376/655 [================>.............] - ETA: 1:40 - loss: 1.5851 - accuracy: 0.4569"
     ]
    },
    {
     "name": "stderr",
     "output_type": "stream",
     "text": [
      "2021-10-01 23:16:57.696823: W tensorflow/core/lib/png/png_io.cc:88] PNG warning: iCCP: known incorrect sRGB profile\n"
     ]
    },
    {
     "name": "stdout",
     "output_type": "stream",
     "text": [
      "388/655 [================>.............] - ETA: 1:36 - loss: 1.5833 - accuracy: 0.4571"
     ]
    },
    {
     "name": "stderr",
     "output_type": "stream",
     "text": [
      "2021-10-01 23:17:01.970821: W tensorflow/core/lib/png/png_io.cc:88] PNG warning: iCCP: known incorrect sRGB profile\n"
     ]
    },
    {
     "name": "stdout",
     "output_type": "stream",
     "text": [
      "396/655 [=================>............] - ETA: 1:33 - loss: 1.5816 - accuracy: 0.4575"
     ]
    },
    {
     "name": "stderr",
     "output_type": "stream",
     "text": [
      "2021-10-01 23:17:04.889100: W tensorflow/core/lib/png/png_io.cc:88] PNG warning: iCCP: known incorrect sRGB profile\n"
     ]
    },
    {
     "name": "stdout",
     "output_type": "stream",
     "text": [
      "469/655 [====================>.........] - ETA: 1:07 - loss: 1.5687 - accuracy: 0.4628"
     ]
    },
    {
     "name": "stderr",
     "output_type": "stream",
     "text": [
      "2021-10-01 23:17:31.359823: W tensorflow/core/lib/png/png_io.cc:88] PNG warning: iCCP: known incorrect sRGB profile\n"
     ]
    },
    {
     "name": "stdout",
     "output_type": "stream",
     "text": [
      "513/655 [======================>.......] - ETA: 51s - loss: 1.5653 - accuracy: 0.4639"
     ]
    },
    {
     "name": "stderr",
     "output_type": "stream",
     "text": [
      "2021-10-01 23:17:46.788649: W tensorflow/core/lib/png/png_io.cc:88] PNG warning: iCCP: known incorrect sRGB profile\n"
     ]
    },
    {
     "name": "stdout",
     "output_type": "stream",
     "text": [
      "580/655 [=========================>....] - ETA: 27s - loss: 1.5595 - accuracy: 0.4661"
     ]
    },
    {
     "name": "stderr",
     "output_type": "stream",
     "text": [
      "2021-10-01 23:18:10.792434: W tensorflow/core/lib/png/png_io.cc:88] PNG warning: iCCP: known incorrect sRGB profile\n"
     ]
    },
    {
     "name": "stdout",
     "output_type": "stream",
     "text": [
      "591/655 [==========================>...] - ETA: 23s - loss: 1.5570 - accuracy: 0.4670"
     ]
    },
    {
     "name": "stderr",
     "output_type": "stream",
     "text": [
      "2021-10-01 23:18:14.352931: W tensorflow/core/lib/png/png_io.cc:88] PNG warning: iCCP: known incorrect sRGB profile\n"
     ]
    },
    {
     "name": "stdout",
     "output_type": "stream",
     "text": [
      "655/655 [==============================] - ETA: 0s - loss: 1.5503 - accuracy: 0.4696"
     ]
    },
    {
     "name": "stderr",
     "output_type": "stream",
     "text": [
      "2021-10-01 23:18:45.781534: W tensorflow/core/lib/png/png_io.cc:88] PNG warning: iCCP: known incorrect sRGB profile\n",
      "2021-10-01 23:18:46.395877: W tensorflow/core/lib/png/png_io.cc:88] PNG warning: iCCP: known incorrect sRGB profile\n"
     ]
    },
    {
     "name": "stdout",
     "output_type": "stream",
     "text": [
      "655/655 [==============================] - 248s 379ms/step - loss: 1.5503 - accuracy: 0.4696 - val_loss: 1.7600 - val_accuracy: 0.4323\n",
      "Epoch 3/3\n",
      " 67/655 [==>...........................] - ETA: 3:48 - loss: 1.5251 - accuracy: 0.4837"
     ]
    },
    {
     "name": "stderr",
     "output_type": "stream",
     "text": [
      "2021-10-01 23:19:16.123024: W tensorflow/core/lib/png/png_io.cc:88] PNG warning: iCCP: known incorrect sRGB profile\n"
     ]
    },
    {
     "name": "stdout",
     "output_type": "stream",
     "text": [
      "105/655 [===>..........................] - ETA: 3:29 - loss: 1.5440 - accuracy: 0.4753"
     ]
    },
    {
     "name": "stderr",
     "output_type": "stream",
     "text": [
      "2021-10-01 23:19:30.053946: W tensorflow/core/lib/png/png_io.cc:88] PNG warning: iCCP: known incorrect sRGB profile\n"
     ]
    },
    {
     "name": "stdout",
     "output_type": "stream",
     "text": [
      "178/655 [=======>......................] - ETA: 2:57 - loss: 1.5284 - accuracy: 0.4821"
     ]
    },
    {
     "name": "stderr",
     "output_type": "stream",
     "text": [
      "2021-10-01 23:19:56.501618: W tensorflow/core/lib/png/png_io.cc:88] PNG warning: iCCP: known incorrect sRGB profile\n"
     ]
    },
    {
     "name": "stdout",
     "output_type": "stream",
     "text": [
      "186/655 [=======>......................] - ETA: 2:55 - loss: 1.5302 - accuracy: 0.4819"
     ]
    },
    {
     "name": "stderr",
     "output_type": "stream",
     "text": [
      "2021-10-01 23:19:59.545914: W tensorflow/core/lib/png/png_io.cc:88] PNG warning: iCCP: known incorrect sRGB profile\n"
     ]
    },
    {
     "name": "stdout",
     "output_type": "stream",
     "text": [
      "192/655 [=======>......................] - ETA: 2:52 - loss: 1.5286 - accuracy: 0.4819"
     ]
    },
    {
     "name": "stderr",
     "output_type": "stream",
     "text": [
      "2021-10-01 23:20:01.637038: W tensorflow/core/lib/png/png_io.cc:88] PNG warning: iCCP: known incorrect sRGB profile\n"
     ]
    },
    {
     "name": "stdout",
     "output_type": "stream",
     "text": [
      "220/655 [=========>....................] - ETA: 2:42 - loss: 1.5241 - accuracy: 0.4844"
     ]
    },
    {
     "name": "stderr",
     "output_type": "stream",
     "text": [
      "2021-10-01 23:20:12.458673: W tensorflow/core/lib/png/png_io.cc:88] PNG warning: iCCP: known incorrect sRGB profile\n"
     ]
    },
    {
     "name": "stdout",
     "output_type": "stream",
     "text": [
      "237/655 [=========>....................] - ETA: 2:36 - loss: 1.5217 - accuracy: 0.4842"
     ]
    },
    {
     "name": "stderr",
     "output_type": "stream",
     "text": [
      "2021-10-01 23:20:18.927448: W tensorflow/core/lib/png/png_io.cc:88] PNG warning: iCCP: known incorrect sRGB profile\n"
     ]
    },
    {
     "name": "stdout",
     "output_type": "stream",
     "text": [
      "251/655 [==========>...................] - ETA: 2:31 - loss: 1.5188 - accuracy: 0.4843"
     ]
    },
    {
     "name": "stderr",
     "output_type": "stream",
     "text": [
      "2021-10-01 23:20:24.293004: W tensorflow/core/lib/png/png_io.cc:88] PNG warning: iCCP: known incorrect sRGB profile\n"
     ]
    },
    {
     "name": "stdout",
     "output_type": "stream",
     "text": [
      "268/655 [===========>..................] - ETA: 2:26 - loss: 1.5145 - accuracy: 0.4852"
     ]
    },
    {
     "name": "stderr",
     "output_type": "stream",
     "text": [
      "2021-10-01 23:20:31.251981: W tensorflow/core/lib/png/png_io.cc:88] PNG warning: iCCP: known incorrect sRGB profile\n"
     ]
    },
    {
     "name": "stdout",
     "output_type": "stream",
     "text": [
      "287/655 [============>.................] - ETA: 2:19 - loss: 1.5142 - accuracy: 0.4844"
     ]
    },
    {
     "name": "stderr",
     "output_type": "stream",
     "text": [
      "2021-10-01 23:20:38.551157: W tensorflow/core/lib/png/png_io.cc:88] PNG warning: iCCP: known incorrect sRGB profile\n"
     ]
    },
    {
     "name": "stdout",
     "output_type": "stream",
     "text": [
      "303/655 [============>.................] - ETA: 2:13 - loss: 1.5128 - accuracy: 0.4849"
     ]
    },
    {
     "name": "stderr",
     "output_type": "stream",
     "text": [
      "2021-10-01 23:20:44.698642: W tensorflow/core/lib/png/png_io.cc:88] PNG warning: iCCP: known incorrect sRGB profile\n"
     ]
    },
    {
     "name": "stdout",
     "output_type": "stream",
     "text": [
      "342/655 [==============>...............] - ETA: 1:58 - loss: 1.5135 - accuracy: 0.4874"
     ]
    },
    {
     "name": "stderr",
     "output_type": "stream",
     "text": [
      "2021-10-01 23:20:59.783378: W tensorflow/core/lib/png/png_io.cc:88] PNG warning: iCCP: known incorrect sRGB profile\n"
     ]
    },
    {
     "name": "stdout",
     "output_type": "stream",
     "text": [
      "348/655 [==============>...............] - ETA: 1:56 - loss: 1.5146 - accuracy: 0.4871"
     ]
    },
    {
     "name": "stderr",
     "output_type": "stream",
     "text": [
      "2021-10-01 23:21:01.955676: W tensorflow/core/lib/png/png_io.cc:88] PNG warning: iCCP: known incorrect sRGB profile\n"
     ]
    },
    {
     "name": "stdout",
     "output_type": "stream",
     "text": [
      "376/655 [================>.............] - ETA: 1:45 - loss: 1.5095 - accuracy: 0.4882"
     ]
    },
    {
     "name": "stderr",
     "output_type": "stream",
     "text": [
      "2021-10-01 23:21:12.540044: W tensorflow/core/lib/png/png_io.cc:88] PNG warning: iCCP: known incorrect sRGB profile\n"
     ]
    },
    {
     "name": "stdout",
     "output_type": "stream",
     "text": [
      "388/655 [================>.............] - ETA: 1:41 - loss: 1.5043 - accuracy: 0.4896"
     ]
    },
    {
     "name": "stderr",
     "output_type": "stream",
     "text": [
      "2021-10-01 23:21:17.216990: W tensorflow/core/lib/png/png_io.cc:88] PNG warning: iCCP: known incorrect sRGB profile\n"
     ]
    },
    {
     "name": "stdout",
     "output_type": "stream",
     "text": [
      "396/655 [=================>............] - ETA: 1:38 - loss: 1.5047 - accuracy: 0.4891"
     ]
    },
    {
     "name": "stderr",
     "output_type": "stream",
     "text": [
      "2021-10-01 23:21:20.429602: W tensorflow/core/lib/png/png_io.cc:88] PNG warning: iCCP: known incorrect sRGB profile\n"
     ]
    },
    {
     "name": "stdout",
     "output_type": "stream",
     "text": [
      "469/655 [====================>.........] - ETA: 1:10 - loss: 1.4958 - accuracy: 0.4953"
     ]
    },
    {
     "name": "stderr",
     "output_type": "stream",
     "text": [
      "2021-10-01 23:21:47.778941: W tensorflow/core/lib/png/png_io.cc:88] PNG warning: iCCP: known incorrect sRGB profile\n"
     ]
    },
    {
     "name": "stdout",
     "output_type": "stream",
     "text": [
      "513/655 [======================>.......] - ETA: 53s - loss: 1.4945 - accuracy: 0.4956"
     ]
    },
    {
     "name": "stderr",
     "output_type": "stream",
     "text": [
      "2021-10-01 23:22:05.043259: W tensorflow/core/lib/png/png_io.cc:88] PNG warning: iCCP: known incorrect sRGB profile\n"
     ]
    },
    {
     "name": "stdout",
     "output_type": "stream",
     "text": [
      "580/655 [=========================>....] - ETA: 28s - loss: 1.4903 - accuracy: 0.4970"
     ]
    },
    {
     "name": "stderr",
     "output_type": "stream",
     "text": [
      "2021-10-01 23:22:30.278755: W tensorflow/core/lib/png/png_io.cc:88] PNG warning: iCCP: known incorrect sRGB profile\n"
     ]
    },
    {
     "name": "stdout",
     "output_type": "stream",
     "text": [
      "591/655 [==========================>...] - ETA: 24s - loss: 1.4889 - accuracy: 0.4972"
     ]
    },
    {
     "name": "stderr",
     "output_type": "stream",
     "text": [
      "2021-10-01 23:22:34.239319: W tensorflow/core/lib/png/png_io.cc:88] PNG warning: iCCP: known incorrect sRGB profile\n"
     ]
    },
    {
     "name": "stdout",
     "output_type": "stream",
     "text": [
      "655/655 [==============================] - ETA: 0s - loss: 1.4847 - accuracy: 0.4979"
     ]
    },
    {
     "name": "stderr",
     "output_type": "stream",
     "text": [
      "2021-10-01 23:23:07.478157: W tensorflow/core/lib/png/png_io.cc:88] PNG warning: iCCP: known incorrect sRGB profile\n",
      "2021-10-01 23:23:08.081476: W tensorflow/core/lib/png/png_io.cc:88] PNG warning: iCCP: known incorrect sRGB profile\n"
     ]
    },
    {
     "name": "stdout",
     "output_type": "stream",
     "text": [
      "655/655 [==============================] - 262s 400ms/step - loss: 1.4847 - accuracy: 0.4979 - val_loss: 1.6991 - val_accuracy: 0.4627\n"
     ]
    }
   ],
   "source": [
    "epochs = 3\n",
    "data = model.fit(\n",
    "  train_set,\n",
    "  validation_data=dev_set,\n",
    "  batch_size = batch_size,\n",
    "  epochs=epochs\n",
    ")"
   ]
  },
  {
   "cell_type": "code",
   "execution_count": 10,
   "id": "c513fdd5-175f-42e2-8ebe-834d96dc8435",
   "metadata": {},
   "outputs": [],
   "source": [
    "acc = data.history['accuracy']\n",
    "val_acc = data.history['val_accuracy']\n",
    "\n",
    "loss = data.history['loss']\n",
    "val_loss = data.history['val_loss']\n",
    "epochs_range = range(epochs)"
   ]
  },
  {
   "cell_type": "code",
   "execution_count": 19,
   "id": "7e68c6f7-33ac-4d15-ae9f-960316a8ce2e",
   "metadata": {},
   "outputs": [
    {
     "name": "stdout",
     "output_type": "stream",
     "text": [
      "This image most likely belongs to dog with a 23.29 percent confidence.\n",
      "This image most likely belongs to horse with a 30.85 percent confidence.\n",
      "This image most likely belongs to spider with a 41.29 percent confidence.\n",
      "This image most likely belongs to butterfly with a 79.34 percent confidence.\n",
      "This image most likely belongs to spider with a 38.71 percent confidence.\n",
      "This image most likely belongs to spider with a 27.26 percent confidence.\n",
      "This image most likely belongs to dog with a 59.26 percent confidence.\n",
      "This image most likely belongs to spider with a 42.98 percent confidence.\n",
      "This image most likely belongs to chicken with a 17.66 percent confidence.\n",
      "This image most likely belongs to spider with a 63.30 percent confidence.\n",
      "The accuracy of the model is 0.14.\n"
     ]
    }
   ],
   "source": [
    "classes = train_set.class_names \n",
    "predictions = model.predict(test_set)\n",
    "prediction_indeces = np.argmax(predictions, axis = 1)\n",
    "\n",
    "n = list(map(lambda x:x[1], test_set))\n",
    "\n",
    "image_list = []\n",
    "for x in n:\n",
    "    for y in x:\n",
    "        image_list.append(y)   \n",
    "        \n",
    "# All predictions are given a confidence value for each category of animal\n",
    "# The index with the highest confidence is chosen\n",
    "# The first 10 predictions are printed out to show this\n",
    "for i in range(0, 10):\n",
    "    print(\"This image most likely belongs to {} with a {:.2f} percent confidence.\"\n",
    "          .format(classes[np.argmax(tf.nn.softmax(predictions[i]))], 100 * np.max(tf.nn.softmax(predictions[i]))))\n",
    "        \n",
    "correct = 0\n",
    "for i in range(0, len(image_list)):\n",
    "    if (image_list[i] == prediction_indeces[i]):\n",
    "        correct += 1\n",
    "\n",
    "print(\"The accuracy of the model is {:.2f}.\".format(correct/len(image_list)))"
   ]
  },
  {
   "cell_type": "markdown",
   "id": "3273a1d3-cd96-4639-a3d3-3357863d94f1",
   "metadata": {},
   "source": [
    "Task 3:\n",
    "In task 2 I chose the hyperparameters to be as follows: I chose the number of epochs to be 3 and the batch size to be 32.  I chose the number of epochs to be 3 as I did some reasearch online and found that there is no optimum number of epochs to use, and instead the user should stop adding epochs when the accuracy of the training begins to level off.  I chose 3 epochs as I started with 1 and continued to add more, but once I used more than 3 the model took such a long time to train that I could not get results before running out of memory.  I chose a batch size of 32 after doing some searching online and finding that 32 is a good starting point for smaller datasets.  Also, I read https://machinelearningmastery.com/how-to-control-the-speed-and-stability-of-training-neural-networks-with-gradient-descent-batch-size/ to find that it was good number for minibatch since the size is greater than 1 but less than the total number of examples in my training set.\n",
    "\n",
    "I did not use regularization since the accuracy of the model was not incredibly high, meaning that the model did not fit the data too well which would be a sign of overfitting.  I did use the optimization algorithm SGD though as I read about when to use optimizers and found from https://www.kdnuggets.com/2020/12/optimization-algorithms-neural-networks.html that it's a good idea to do so when you do not know what weights to use for training.  Since this was the case, I used the well known Adam optimizer mentioned in the same webpage in order to minimize loss."
   ]
  },
  {
   "cell_type": "code",
   "execution_count": null,
   "id": "345aa99d-4593-48ca-babf-7e94138a6bd6",
   "metadata": {},
   "outputs": [],
   "source": []
  }
 ],
 "metadata": {
  "kernelspec": {
   "display_name": "Python 3 (ipykernel)",
   "language": "python",
   "name": "python3"
  },
  "language_info": {
   "codemirror_mode": {
    "name": "ipython",
    "version": 3
   },
   "file_extension": ".py",
   "mimetype": "text/x-python",
   "name": "python",
   "nbconvert_exporter": "python",
   "pygments_lexer": "ipython3",
   "version": "3.8.10"
  }
 },
 "nbformat": 4,
 "nbformat_minor": 5
}
